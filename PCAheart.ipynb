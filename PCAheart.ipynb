{
  "nbformat": 4,
  "nbformat_minor": 0,
  "metadata": {
    "colab": {
      "name": "PCAheart.ipynb",
      "provenance": [],
      "collapsed_sections": []
    },
    "kernelspec": {
      "name": "python3",
      "display_name": "Python 3"
    },
    "language_info": {
      "name": "python"
    }
  },
  "cells": [
    {
      "cell_type": "code",
      "execution_count": null,
      "metadata": {
        "id": "zRJUGm6bSN2X"
      },
      "outputs": [],
      "source": [
        "# This Python 3 environment comes with many helpful analytics libraries installed\n",
        "# It is defined by the kaggle/python docker image: https://github.com/kaggle/docker-python\n",
        "# For example, here's several helpful packages to load in \n",
        "\n",
        "import numpy as np # linear algebra\n",
        "import pandas as pd # data processing, CSV file I/O (e.g. pd.read_csv)\n",
        "\n",
        "# Input data files are available in the \"../input/\" directory.\n",
        "# For example, running this (by clicking run or pressing Shift+Enter) will list the files in the input directory\n",
        "\n",
        "import os\n",
        "print(os.listdir(\"../input\"))\n",
        "\n",
        "# Any results you write to the current directory are saved as output."
      ]
    },
    {
      "cell_type": "code",
      "source": [
        "heart_data = pd.read_csv(\"../input/heart.csv\")"
      ],
      "metadata": {
        "id": "PD5NjQJ2SSmR"
      },
      "execution_count": null,
      "outputs": []
    },
    {
      "cell_type": "code",
      "source": [
        "heart_data.head()"
      ],
      "metadata": {
        "id": "z4yAU3wBSZv-"
      },
      "execution_count": null,
      "outputs": []
    },
    {
      "cell_type": "code",
      "source": [
        "heart_data.describe()"
      ],
      "metadata": {
        "id": "RDR0hJqiScBQ"
      },
      "execution_count": null,
      "outputs": []
    },
    {
      "cell_type": "code",
      "source": [
        "heart_data['restecg'].unique()"
      ],
      "metadata": {
        "id": "yaMUs9uNSd_d"
      },
      "execution_count": null,
      "outputs": []
    },
    {
      "cell_type": "code",
      "source": [
        "X = heart_data.iloc[:,0:13].values\n",
        "Y = heart_data.iloc[:,13].values"
      ],
      "metadata": {
        "id": "257jsgxvSyNp"
      },
      "execution_count": null,
      "outputs": []
    },
    {
      "cell_type": "code",
      "source": [
        "X.shape, Y.shape"
      ],
      "metadata": {
        "id": "pt1eD9VnSz16"
      },
      "execution_count": null,
      "outputs": []
    },
    {
      "cell_type": "code",
      "source": [
        "import numpy as np\n",
        "from sklearn.decomposition import PCA\n",
        "import pandas as pd\n",
        "import matplotlib.pyplot as plt\n",
        "from sklearn.preprocessing import scale\n",
        "%matplotlib inline"
      ],
      "metadata": {
        "id": "qK7-hWu2TE9c"
      },
      "execution_count": null,
      "outputs": []
    },
    {
      "cell_type": "code",
      "source": [
        "scaled_X = scale(X)"
      ],
      "metadata": {
        "id": "hTwEtNEOTFZT"
      },
      "execution_count": null,
      "outputs": []
    },
    {
      "cell_type": "code",
      "source": [
        "pca = PCA(n_components=13)\n",
        "\n",
        "pca.fit(X)"
      ],
      "metadata": {
        "id": "TLlaBLlDTHo6"
      },
      "execution_count": null,
      "outputs": []
    },
    {
      "cell_type": "code",
      "source": [
        "def showVarianceRatio(pca):\n",
        "    exp_ratio_var = pca.explained_variance_ratio_\n",
        "    var1=np.cumsum(np.round(pca.explained_variance_ratio_, decimals=4)*100)\n",
        "    plt.plot(var1)"
      ],
      "metadata": {
        "id": "TlVma4BKTJMH"
      },
      "execution_count": null,
      "outputs": []
    },
    {
      "cell_type": "code",
      "source": [
        "exp_ratio_var = pca.explained_variance_ratio_\n",
        "exp_ratio_var"
      ],
      "metadata": {
        "id": "D8meqC6ZTLfA"
      },
      "execution_count": null,
      "outputs": []
    },
    {
      "cell_type": "code",
      "source": [
        "var1=np.cumsum(np.round(pca.explained_variance_ratio_, decimals=4)*100)"
      ],
      "metadata": {
        "id": "gA_HZgWoTNNZ"
      },
      "execution_count": null,
      "outputs": []
    },
    {
      "cell_type": "code",
      "source": [
        "plt.plot(var1)"
      ],
      "metadata": {
        "id": "dkFmcVGaTPEW"
      },
      "execution_count": null,
      "outputs": []
    },
    {
      "cell_type": "code",
      "source": [
        "pca2 = PCA(n_components=3)\n",
        "pca2.fit(X)\n",
        "X1=pca2.fit_transform(X)\n"
      ],
      "metadata": {
        "id": "ynpIjrKxTQtq"
      },
      "execution_count": null,
      "outputs": []
    },
    {
      "cell_type": "code",
      "source": [
        "X1.shape"
      ],
      "metadata": {
        "id": "Yn6HWlWKTTN8"
      },
      "execution_count": null,
      "outputs": []
    },
    {
      "cell_type": "code",
      "source": [
        "showVarianceRatio(pca2)"
      ],
      "metadata": {
        "id": "7ntDNotkTa13"
      },
      "execution_count": null,
      "outputs": []
    },
    {
      "cell_type": "code",
      "source": [
        "with plt.style.context('seaborn-whitegrid'):\n",
        "    plt.figure(figsize=(6, 4))\n",
        "    for lab, col in zip((0, 1, 2, 3),\n",
        "                        ('blue', 'red', 'green', 'black')):\n",
        "        plt.scatter(X1[Y==lab, 0],\n",
        "                    X1[Y==lab, 1],\n",
        "                    label=lab,\n",
        "                    c=col)\n",
        "    plt.xlabel('Principal Component 1')\n",
        "    plt.ylabel('Principal Component 2')\n",
        "    plt.legend(loc='lower center')\n",
        "    plt.tight_layout()\n",
        "    plt.show()"
      ],
      "metadata": {
        "id": "Cj0huaEZTcfK"
      },
      "execution_count": null,
      "outputs": []
    },
    {
      "cell_type": "code",
      "source": [
        "from sklearn.model_selection import train_test_split\n",
        "\n",
        "train_X,test_X,train_y, test_y = train_test_split(X1,Y, test_size=0.2, random_state=42)\n",
        "train2_X,val_X,train2_y, val_y = train_test_split(train_X,train_y, test_size=0.2, random_state=42)"
      ],
      "metadata": {
        "id": "Pd-XJp8ATeZT"
      },
      "execution_count": null,
      "outputs": []
    },
    {
      "cell_type": "code",
      "source": [
        "from sklearn.preprocessing import StandardScaler\n",
        "from sklearn.neural_network import MLPClassifier"
      ],
      "metadata": {
        "id": "TCxBc3sATgor"
      },
      "execution_count": null,
      "outputs": []
    },
    {
      "cell_type": "code",
      "source": [
        "#scaler = StandardScaler()\n",
        "#scaler.fit(X1)\n",
        "#NN_train_x = scaler.transform(X1)\n",
        "#NN_test_x = scaler.transform(test_X.values)\n",
        "train2_X.shape"
      ],
      "metadata": {
        "id": "vuYazwu0TiiC"
      },
      "execution_count": null,
      "outputs": []
    },
    {
      "cell_type": "code",
      "source": [
        "clf = MLPClassifier(solver='sgd',hidden_layer_sizes=(train2_X.shape[0],), random_state=1, max_iter=250, learning_rate_init=0.0001)"
      ],
      "metadata": {
        "id": "5lDooB8sTtVY"
      },
      "execution_count": null,
      "outputs": []
    },
    {
      "cell_type": "code",
      "source": [
        "clf.fit(train2_X, train2_y)"
      ],
      "metadata": {
        "id": "Mq8xG_3KTuMZ"
      },
      "execution_count": null,
      "outputs": []
    },
    {
      "cell_type": "code",
      "source": [
        "#NN_text_x = scaler.transform(np_train_X)"
      ],
      "metadata": {
        "id": "uoOiO6fITwFv"
      },
      "execution_count": null,
      "outputs": []
    },
    {
      "cell_type": "code",
      "source": [
        "yhat = clf.predict(val_X)"
      ],
      "metadata": {
        "id": "HnnunS4DTx-8"
      },
      "execution_count": null,
      "outputs": []
    },
    {
      "cell_type": "code",
      "source": [
        "from sklearn.metrics import accuracy_score\n",
        "from sklearn.metrics import f1_score\n",
        "from sklearn.metrics import precision_score\n",
        "from sklearn.metrics import recall_score"
      ],
      "metadata": {
        "id": "lfn8iUQHTz4V"
      },
      "execution_count": null,
      "outputs": []
    },
    {
      "cell_type": "code",
      "source": [
        "#print (\"accuracy = \", accuracy_score(test_y.values, YHAT))\n",
        "print(\"accuracy = {0:.2f}\".format(accuracy_score(val_y, yhat)))\n",
        "print (\"precision_score = {0:.2f}\".format(precision_score(val_y, yhat)))\n",
        "print (\"recall_score = {0:.2f}\".format(recall_score(val_y, yhat)))\n",
        "print (\"f1_score = {0:.2f}\".format(f1_score(val_y, yhat)))"
      ],
      "metadata": {
        "id": "0pJGvlxDT3U-"
      },
      "execution_count": null,
      "outputs": []
    },
    {
      "cell_type": "code",
      "source": [
        "yhat_test = clf.predict(test_X)"
      ],
      "metadata": {
        "id": "5rDPnI7eT7Uk"
      },
      "execution_count": null,
      "outputs": []
    },
    {
      "cell_type": "code",
      "source": [
        "print(\"accuracy = {0:.2f}\".format(accuracy_score(test_y, yhat_test)))\n",
        "print (\"precision_score = {0:.2f}\".format(precision_score(test_y, yhat_test)))\n",
        "print (\"recall_score = {0:.2f}\".format(recall_score(test_y, yhat_test)))\n",
        "print (\"f1_score = {0:.2f}\".format(f1_score(test_y, yhat_test)))"
      ],
      "metadata": {
        "id": "4zLCfDROT8vd"
      },
      "execution_count": null,
      "outputs": []
    }
  ]
}